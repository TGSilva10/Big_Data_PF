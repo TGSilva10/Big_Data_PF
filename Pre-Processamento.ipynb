{
 "cells": [
  {
   "cell_type": "code",
   "execution_count": 1,
   "metadata": {},
   "outputs": [],
   "source": [
    "import pandas as pd"
   ]
  },
  {
   "cell_type": "code",
   "execution_count": 2,
   "metadata": {},
   "outputs": [
    {
     "data": {
      "text/html": [
       "<div>\n",
       "<style scoped>\n",
       "    .dataframe tbody tr th:only-of-type {\n",
       "        vertical-align: middle;\n",
       "    }\n",
       "\n",
       "    .dataframe tbody tr th {\n",
       "        vertical-align: top;\n",
       "    }\n",
       "\n",
       "    .dataframe thead th {\n",
       "        text-align: right;\n",
       "    }\n",
       "</style>\n",
       "<table border=\"1\" class=\"dataframe\">\n",
       "  <thead>\n",
       "    <tr style=\"text-align: right;\">\n",
       "      <th></th>\n",
       "      <th>Activity Period</th>\n",
       "      <th>Operating Airline</th>\n",
       "      <th>Operating Airline IATA Code</th>\n",
       "      <th>Published Airline</th>\n",
       "      <th>Published Airline IATA Code</th>\n",
       "      <th>GEO Summary</th>\n",
       "      <th>GEO Region</th>\n",
       "      <th>Activity Type Code</th>\n",
       "      <th>Price Category Code</th>\n",
       "      <th>Terminal</th>\n",
       "      <th>Boarding Area</th>\n",
       "      <th>Passenger Count</th>\n",
       "      <th>Adjusted Activity Type Code</th>\n",
       "      <th>Adjusted Passenger Count</th>\n",
       "      <th>Year</th>\n",
       "      <th>Month</th>\n",
       "    </tr>\n",
       "  </thead>\n",
       "  <tbody>\n",
       "    <tr>\n",
       "      <th>0</th>\n",
       "      <td>200507</td>\n",
       "      <td>ATA Airlines</td>\n",
       "      <td>TZ</td>\n",
       "      <td>ATA Airlines</td>\n",
       "      <td>TZ</td>\n",
       "      <td>Domestic</td>\n",
       "      <td>US</td>\n",
       "      <td>Deplaned</td>\n",
       "      <td>Low Fare</td>\n",
       "      <td>Terminal 1</td>\n",
       "      <td>B</td>\n",
       "      <td>27271</td>\n",
       "      <td>Deplaned</td>\n",
       "      <td>27271</td>\n",
       "      <td>2005</td>\n",
       "      <td>July</td>\n",
       "    </tr>\n",
       "    <tr>\n",
       "      <th>1</th>\n",
       "      <td>200507</td>\n",
       "      <td>ATA Airlines</td>\n",
       "      <td>TZ</td>\n",
       "      <td>ATA Airlines</td>\n",
       "      <td>TZ</td>\n",
       "      <td>Domestic</td>\n",
       "      <td>US</td>\n",
       "      <td>Enplaned</td>\n",
       "      <td>Low Fare</td>\n",
       "      <td>Terminal 1</td>\n",
       "      <td>B</td>\n",
       "      <td>29131</td>\n",
       "      <td>Enplaned</td>\n",
       "      <td>29131</td>\n",
       "      <td>2005</td>\n",
       "      <td>July</td>\n",
       "    </tr>\n",
       "    <tr>\n",
       "      <th>2</th>\n",
       "      <td>200507</td>\n",
       "      <td>ATA Airlines</td>\n",
       "      <td>TZ</td>\n",
       "      <td>ATA Airlines</td>\n",
       "      <td>TZ</td>\n",
       "      <td>Domestic</td>\n",
       "      <td>US</td>\n",
       "      <td>Thru / Transit</td>\n",
       "      <td>Low Fare</td>\n",
       "      <td>Terminal 1</td>\n",
       "      <td>B</td>\n",
       "      <td>5415</td>\n",
       "      <td>Thru / Transit * 2</td>\n",
       "      <td>10830</td>\n",
       "      <td>2005</td>\n",
       "      <td>July</td>\n",
       "    </tr>\n",
       "    <tr>\n",
       "      <th>3</th>\n",
       "      <td>200507</td>\n",
       "      <td>Air Canada</td>\n",
       "      <td>AC</td>\n",
       "      <td>Air Canada</td>\n",
       "      <td>AC</td>\n",
       "      <td>International</td>\n",
       "      <td>Canada</td>\n",
       "      <td>Deplaned</td>\n",
       "      <td>Other</td>\n",
       "      <td>Terminal 1</td>\n",
       "      <td>B</td>\n",
       "      <td>35156</td>\n",
       "      <td>Deplaned</td>\n",
       "      <td>35156</td>\n",
       "      <td>2005</td>\n",
       "      <td>July</td>\n",
       "    </tr>\n",
       "    <tr>\n",
       "      <th>4</th>\n",
       "      <td>200507</td>\n",
       "      <td>Air Canada</td>\n",
       "      <td>AC</td>\n",
       "      <td>Air Canada</td>\n",
       "      <td>AC</td>\n",
       "      <td>International</td>\n",
       "      <td>Canada</td>\n",
       "      <td>Enplaned</td>\n",
       "      <td>Other</td>\n",
       "      <td>Terminal 1</td>\n",
       "      <td>B</td>\n",
       "      <td>34090</td>\n",
       "      <td>Enplaned</td>\n",
       "      <td>34090</td>\n",
       "      <td>2005</td>\n",
       "      <td>July</td>\n",
       "    </tr>\n",
       "  </tbody>\n",
       "</table>\n",
       "</div>"
      ],
      "text/plain": [
       "   Activity Period Operating Airline Operating Airline IATA Code  \\\n",
       "0           200507      ATA Airlines                          TZ   \n",
       "1           200507      ATA Airlines                          TZ   \n",
       "2           200507      ATA Airlines                          TZ   \n",
       "3           200507       Air Canada                           AC   \n",
       "4           200507       Air Canada                           AC   \n",
       "\n",
       "  Published Airline Published Airline IATA Code    GEO Summary GEO Region  \\\n",
       "0      ATA Airlines                          TZ       Domestic         US   \n",
       "1      ATA Airlines                          TZ       Domestic         US   \n",
       "2      ATA Airlines                          TZ       Domestic         US   \n",
       "3       Air Canada                           AC  International     Canada   \n",
       "4       Air Canada                           AC  International     Canada   \n",
       "\n",
       "  Activity Type Code Price Category Code    Terminal Boarding Area  \\\n",
       "0           Deplaned            Low Fare  Terminal 1             B   \n",
       "1           Enplaned            Low Fare  Terminal 1             B   \n",
       "2     Thru / Transit            Low Fare  Terminal 1             B   \n",
       "3           Deplaned               Other  Terminal 1             B   \n",
       "4           Enplaned               Other  Terminal 1             B   \n",
       "\n",
       "   Passenger Count Adjusted Activity Type Code  Adjusted Passenger Count  \\\n",
       "0            27271                    Deplaned                     27271   \n",
       "1            29131                    Enplaned                     29131   \n",
       "2             5415          Thru / Transit * 2                     10830   \n",
       "3            35156                    Deplaned                     35156   \n",
       "4            34090                    Enplaned                     34090   \n",
       "\n",
       "   Year Month  \n",
       "0  2005  July  \n",
       "1  2005  July  \n",
       "2  2005  July  \n",
       "3  2005  July  \n",
       "4  2005  July  "
      ]
     },
     "execution_count": 2,
     "metadata": {},
     "output_type": "execute_result"
    }
   ],
   "source": [
    "df = pd.read_csv(\"/Users/tiagosilva/Air_Traffic_Passenger_Statistics.csv\")\n",
    "\n",
    "df.head()"
   ]
  },
  {
   "cell_type": "code",
   "execution_count": 3,
   "metadata": {},
   "outputs": [
    {
     "name": "stdout",
     "output_type": "stream",
     "text": [
      "Activity Period                 0\n",
      "Operating Airline               0\n",
      "Operating Airline IATA Code    54\n",
      "Published Airline               0\n",
      "Published Airline IATA Code    54\n",
      "GEO Summary                     0\n",
      "GEO Region                      0\n",
      "Activity Type Code              0\n",
      "Price Category Code             0\n",
      "Terminal                        0\n",
      "Boarding Area                   0\n",
      "Passenger Count                 0\n",
      "Adjusted Activity Type Code     0\n",
      "Adjusted Passenger Count        0\n",
      "Year                            0\n",
      "Month                           0\n",
      "dtype: int64\n"
     ]
    }
   ],
   "source": [
    "valores_nulos = df.isnull().sum()\n",
    "\n",
    "print(valores_nulos)"
   ]
  },
  {
   "cell_type": "code",
   "execution_count": 5,
   "metadata": {},
   "outputs": [
    {
     "name": "stdout",
     "output_type": "stream",
     "text": [
      "0\n"
     ]
    }
   ],
   "source": [
    "duplicados = df.duplicated().sum()\n",
    "\n",
    "print(duplicados)"
   ]
  },
  {
   "cell_type": "code",
   "execution_count": 6,
   "metadata": {},
   "outputs": [
    {
     "name": "stdout",
     "output_type": "stream",
     "text": [
      "       Activity Period  Passenger Count  Adjusted Passenger Count  \\\n",
      "count     15007.000000     15007.000000              15007.000000   \n",
      "mean     201045.073366     29240.521090              29331.917105   \n",
      "std         313.336196     58319.509284              58284.182219   \n",
      "min      200507.000000         1.000000                  1.000000   \n",
      "25%      200803.000000      5373.500000               5495.500000   \n",
      "50%      201011.000000      9210.000000               9354.000000   \n",
      "75%      201308.000000     21158.500000              21182.000000   \n",
      "max      201603.000000    659837.000000             659837.000000   \n",
      "\n",
      "               Year  \n",
      "count  15007.000000  \n",
      "mean    2010.385220  \n",
      "std        3.137589  \n",
      "min     2005.000000  \n",
      "25%     2008.000000  \n",
      "50%     2010.000000  \n",
      "75%     2013.000000  \n",
      "max     2016.000000  \n"
     ]
    }
   ],
   "source": [
    "estatistica_descritiva = df.describe()\n",
    "\n",
    "print(estatistica_descritiva)"
   ]
  },
  {
   "cell_type": "code",
   "execution_count": 7,
   "metadata": {},
   "outputs": [
    {
     "name": "stdout",
     "output_type": "stream",
     "text": [
      "{'Operating Airline': array(['ATA Airlines', 'Air Canada ', 'Air China', 'Air France',\n",
      "       'Air New Zealand', 'AirTran Airways', 'Alaska Airlines',\n",
      "       'All Nippon Airways', 'American Airlines',\n",
      "       'American Eagle Airlines', 'Asiana Airlines',\n",
      "       'Atlantic Southeast Airlines', 'BelAir Airlines',\n",
      "       'British Airways', 'Cathay Pacific', 'China Airlines',\n",
      "       'Delta Air Lines', 'EVA Airways', 'Frontier Airlines',\n",
      "       'Hawaiian Airlines', 'Horizon Air ', 'Icelandair',\n",
      "       'Independence Air', 'Japan Airlines', 'KLM Royal Dutch Airlines',\n",
      "       'Korean Air Lines', 'Lufthansa German Airlines', 'Mesa Airlines',\n",
      "       'Mexicana Airlines', 'Midwest Airlines', 'Northwest Airlines',\n",
      "       'Philippine Airlines', 'Singapore Airlines', 'SkyWest Airlines',\n",
      "       'Sun Country Airlines', 'TACA', 'US Airways', 'United Airlines',\n",
      "       'United Airlines - Pre 07/01/2013', 'Virgin Atlantic',\n",
      "       'WestJet Airlines', 'Boeing Company', 'Miami Air International',\n",
      "       'Air Canada Jazz', 'Qantas Airways', 'Ameriflight',\n",
      "       'Spirit Airlines', 'Xtra Airways',\n",
      "       'Evergreen International Airlines', 'Aeromexico',\n",
      "       'JetBlue Airways ', 'ExpressJet Airlines', 'Southwest Airlines',\n",
      "       'Virgin America', 'Aer Lingus', 'Allegiant Air', 'Jet Airways',\n",
      "       'Emirates ', 'Mesaba Airlines', 'World Airways', 'Air Berlin',\n",
      "       'Republic Airlines', 'Servisair', 'Pacific Aviation',\n",
      "       'Swiss International', 'LAN Peru', 'Swissport USA',\n",
      "       'XL Airways France', 'China Eastern', 'SAS Airlines',\n",
      "       'Atlas Air, Inc', 'Compass Airlines', 'Etihad Airways',\n",
      "       'China Southern', 'Turkish Airlines', 'COPA Airlines, Inc.',\n",
      "       'Air India Limited'], dtype=object), 'Operating Airline IATA Code': array(['TZ', 'AC', 'CA', 'AF', 'NZ', 'FL', 'AS', 'NH', 'AA', 'MQ', 'OZ',\n",
      "       'EV', '4T', 'BA', 'CX', 'CI', 'DL', 'BR', 'F9', 'HA', 'QX', 'FI',\n",
      "       'DH', 'JL', 'KL', 'KE', 'LH', 'YV', 'MX', 'YX', 'NW', 'PR', 'SQ',\n",
      "       'OO', 'SY', 'TA', 'US ', 'UA', 'VS', 'WS', nan, 'GL', 'QK', 'QF',\n",
      "       'A8', 'NK', 'XP', 'EZ', 'AM', 'B6', 'XE', 'WN', 'VX', 'EI', 'G4',\n",
      "       '9W', 'BBB', 'EK', 'XJ', 'WO', 'AB', 'RW', 'LX', 'LP', 'SE', 'MU',\n",
      "       'SK', '5Y', 'CP', 'EY', 'CZ', 'TK', 'CM', 'AI'], dtype=object), 'Published Airline': array(['ATA Airlines', 'Air Canada ', 'Air China', 'Air France',\n",
      "       'Air New Zealand', 'AirTran Airways', 'Alaska Airlines',\n",
      "       'All Nippon Airways', 'American Airlines', 'Asiana Airlines',\n",
      "       'Delta Air Lines', 'BelAir Airlines', 'British Airways',\n",
      "       'Cathay Pacific', 'China Airlines', 'EVA Airways',\n",
      "       'Frontier Airlines', 'Hawaiian Airlines', 'Icelandair',\n",
      "       'Independence Air', 'Japan Airlines', 'KLM Royal Dutch Airlines',\n",
      "       'Korean Air Lines', 'Lufthansa German Airlines', 'US Airways',\n",
      "       'Mexicana Airlines', 'Midwest Airlines', 'Northwest Airlines',\n",
      "       'Philippine Airlines', 'Singapore Airlines',\n",
      "       'United Airlines - Pre 07/01/2013', 'Sun Country Airlines', 'TACA',\n",
      "       'United Airlines', 'Virgin Atlantic', 'WestJet Airlines',\n",
      "       'Boeing Company', 'Miami Air International', 'Qantas Airways',\n",
      "       'Ameriflight', 'Spirit Airlines', 'Xtra Airways',\n",
      "       'Evergreen International Airlines', 'Aeromexico',\n",
      "       'JetBlue Airways ', 'Southwest Airlines', 'Virgin America',\n",
      "       'Aer Lingus', 'Allegiant Air', 'Jet Airways', 'Emirates ',\n",
      "       'World Airways', 'Air Berlin', 'Republic Airlines', 'Servisair',\n",
      "       'Pacific Aviation', 'Swiss International', 'LAN Peru',\n",
      "       'Swissport USA', 'XL Airways France', 'China Eastern',\n",
      "       'SAS Airlines', 'Atlas Air, Inc', 'Etihad Airways',\n",
      "       'China Southern', 'Turkish Airlines', 'COPA Airlines, Inc.',\n",
      "       'Air India Limited'], dtype=object), 'Published Airline IATA Code': array(['TZ', 'AC', 'CA', 'AF', 'NZ', 'FL', 'AS', 'NH', 'AA', 'OZ', 'DL',\n",
      "       '4T', 'BA', 'CX', 'CI', 'BR', 'F9', 'HA', 'FI', 'DH', 'JL', 'KL',\n",
      "       'KE', 'LH', 'US ', 'MX', 'YX', 'NW', 'PR', 'SQ', 'UA', 'SY', 'TA',\n",
      "       'VS', 'WS', nan, 'GL', 'QF', 'A8', 'NK', 'XP', 'EZ', 'AM', 'B6',\n",
      "       'WN', 'VX', 'EI', 'G4', '9W', 'BBB', 'EK', 'WO', 'AB', 'RW', 'LX',\n",
      "       'LP', 'SE', 'MU', 'SK', '5Y', 'EY', 'CZ', 'TK', 'CM', 'AI'],\n",
      "      dtype=object), 'GEO Summary': array(['Domestic', 'International'], dtype=object), 'GEO Region': array(['US', 'Canada', 'Asia', 'Europe', 'Australia / Oceania', 'Mexico',\n",
      "       'Central America', 'Middle East', 'South America'], dtype=object), 'Activity Type Code': array(['Deplaned', 'Enplaned', 'Thru / Transit'], dtype=object), 'Price Category Code': array(['Low Fare', 'Other'], dtype=object), 'Terminal': array(['Terminal 1', 'International', 'Terminal 3', 'Other', 'Terminal 2'],\n",
      "      dtype=object), 'Boarding Area': array(['B', 'G', 'A', 'E', 'C', 'F', 'Other', 'D'], dtype=object), 'Adjusted Activity Type Code': array(['Deplaned', 'Enplaned', 'Thru / Transit * 2'], dtype=object), 'Month': array(['July', 'August', 'September', 'October', 'November', 'April',\n",
      "       'December', 'January', 'February', 'March', 'May', 'June'],\n",
      "      dtype=object)}\n"
     ]
    }
   ],
   "source": [
    "colunas_categoricas = df.select_dtypes(include=[\"object\"]).columns\n",
    "valores_unicos_categoricos = {col: df[col].unique()for col in colunas_categoricas}\n",
    "\n",
    "print(valores_unicos_categoricos)"
   ]
  },
  {
   "cell_type": "code",
   "execution_count": 8,
   "metadata": {},
   "outputs": [
    {
     "name": "stdout",
     "output_type": "stream",
     "text": [
      "{'Operating Airline': array(['ATA Airlines', 'Air Canada ', 'Air China', 'Air France',\n",
      "       'Air New Zealand', 'AirTran Airways', 'Alaska Airlines',\n",
      "       'All Nippon Airways', 'American Airlines',\n",
      "       'American Eagle Airlines', 'Asiana Airlines',\n",
      "       'Atlantic Southeast Airlines', 'BelAir Airlines',\n",
      "       'British Airways', 'Cathay Pacific', 'China Airlines',\n",
      "       'Delta Air Lines', 'EVA Airways', 'Frontier Airlines',\n",
      "       'Hawaiian Airlines', 'Horizon Air ', 'Icelandair',\n",
      "       'Independence Air', 'Japan Airlines', 'KLM Royal Dutch Airlines',\n",
      "       'Korean Air Lines', 'Lufthansa German Airlines', 'Mesa Airlines',\n",
      "       'Mexicana Airlines', 'Midwest Airlines', 'Northwest Airlines',\n",
      "       'Philippine Airlines', 'Singapore Airlines', 'SkyWest Airlines',\n",
      "       'Sun Country Airlines', 'TACA', 'US Airways', 'United Airlines',\n",
      "       'United Airlines - Pre 07/01/2013', 'Virgin Atlantic',\n",
      "       'WestJet Airlines', 'Boeing Company', 'Miami Air International',\n",
      "       'Air Canada Jazz', 'Qantas Airways', 'Ameriflight',\n",
      "       'Spirit Airlines', 'Xtra Airways',\n",
      "       'Evergreen International Airlines', 'Aeromexico',\n",
      "       'JetBlue Airways ', 'ExpressJet Airlines', 'Southwest Airlines',\n",
      "       'Virgin America', 'Aer Lingus', 'Allegiant Air', 'Jet Airways',\n",
      "       'Emirates ', 'Mesaba Airlines', 'World Airways', 'Air Berlin',\n",
      "       'Republic Airlines', 'Servisair', 'Pacific Aviation',\n",
      "       'Swiss International', 'LAN Peru', 'Swissport USA',\n",
      "       'XL Airways France', 'China Eastern', 'SAS Airlines',\n",
      "       'Atlas Air, Inc', 'Compass Airlines', 'Etihad Airways',\n",
      "       'China Southern', 'Turkish Airlines', 'COPA Airlines, Inc.',\n",
      "       'Air India Limited'], dtype=object), 'Operating Airline IATA Code': array(['TZ', 'AC', 'CA', 'AF', 'NZ', 'FL', 'AS', 'NH', 'AA', 'MQ', 'OZ',\n",
      "       'EV', '4T', 'BA', 'CX', 'CI', 'DL', 'BR', 'F9', 'HA', 'QX', 'FI',\n",
      "       'DH', 'JL', 'KL', 'KE', 'LH', 'YV', 'MX', 'YX', 'NW', 'PR', 'SQ',\n",
      "       'OO', 'SY', 'TA', 'US ', 'UA', 'VS', 'WS', nan, 'GL', 'QK', 'QF',\n",
      "       'A8', 'NK', 'XP', 'EZ', 'AM', 'B6', 'XE', 'WN', 'VX', 'EI', 'G4',\n",
      "       '9W', 'BBB', 'EK', 'XJ', 'WO', 'AB', 'RW', 'LX', 'LP', 'SE', 'MU',\n",
      "       'SK', '5Y', 'CP', 'EY', 'CZ', 'TK', 'CM', 'AI'], dtype=object), 'Published Airline': array(['ATA Airlines', 'Air Canada ', 'Air China', 'Air France',\n",
      "       'Air New Zealand', 'AirTran Airways', 'Alaska Airlines',\n",
      "       'All Nippon Airways', 'American Airlines', 'Asiana Airlines',\n",
      "       'Delta Air Lines', 'BelAir Airlines', 'British Airways',\n",
      "       'Cathay Pacific', 'China Airlines', 'EVA Airways',\n",
      "       'Frontier Airlines', 'Hawaiian Airlines', 'Icelandair',\n",
      "       'Independence Air', 'Japan Airlines', 'KLM Royal Dutch Airlines',\n",
      "       'Korean Air Lines', 'Lufthansa German Airlines', 'US Airways',\n",
      "       'Mexicana Airlines', 'Midwest Airlines', 'Northwest Airlines',\n",
      "       'Philippine Airlines', 'Singapore Airlines',\n",
      "       'United Airlines - Pre 07/01/2013', 'Sun Country Airlines', 'TACA',\n",
      "       'United Airlines', 'Virgin Atlantic', 'WestJet Airlines',\n",
      "       'Boeing Company', 'Miami Air International', 'Qantas Airways',\n",
      "       'Ameriflight', 'Spirit Airlines', 'Xtra Airways',\n",
      "       'Evergreen International Airlines', 'Aeromexico',\n",
      "       'JetBlue Airways ', 'Southwest Airlines', 'Virgin America',\n",
      "       'Aer Lingus', 'Allegiant Air', 'Jet Airways', 'Emirates ',\n",
      "       'World Airways', 'Air Berlin', 'Republic Airlines', 'Servisair',\n",
      "       'Pacific Aviation', 'Swiss International', 'LAN Peru',\n",
      "       'Swissport USA', 'XL Airways France', 'China Eastern',\n",
      "       'SAS Airlines', 'Atlas Air, Inc', 'Etihad Airways',\n",
      "       'China Southern', 'Turkish Airlines', 'COPA Airlines, Inc.',\n",
      "       'Air India Limited'], dtype=object), 'Published Airline IATA Code': array(['TZ', 'AC', 'CA', 'AF', 'NZ', 'FL', 'AS', 'NH', 'AA', 'OZ', 'DL',\n",
      "       '4T', 'BA', 'CX', 'CI', 'BR', 'F9', 'HA', 'FI', 'DH', 'JL', 'KL',\n",
      "       'KE', 'LH', 'US ', 'MX', 'YX', 'NW', 'PR', 'SQ', 'UA', 'SY', 'TA',\n",
      "       'VS', 'WS', nan, 'GL', 'QF', 'A8', 'NK', 'XP', 'EZ', 'AM', 'B6',\n",
      "       'WN', 'VX', 'EI', 'G4', '9W', 'BBB', 'EK', 'WO', 'AB', 'RW', 'LX',\n",
      "       'LP', 'SE', 'MU', 'SK', '5Y', 'EY', 'CZ', 'TK', 'CM', 'AI'],\n",
      "      dtype=object), 'GEO Summary': array(['Domestic', 'International'], dtype=object), 'GEO Region': array(['US', 'Canada', 'Asia', 'Europe', 'Australia / Oceania', 'Mexico',\n",
      "       'Central America', 'Middle East', 'South America'], dtype=object), 'Activity Type Code': array(['Deplaned', 'Enplaned', 'Thru / Transit'], dtype=object), 'Price Category Code': array(['Low Fare', 'Other'], dtype=object), 'Terminal': array(['Terminal 1', 'International', 'Terminal 3', 'Other', 'Terminal 2'],\n",
      "      dtype=object), 'Boarding Area': array(['B', 'G', 'A', 'E', 'C', 'F', 'Other', 'D'], dtype=object), 'Adjusted Activity Type Code': array(['Deplaned', 'Enplaned', 'Thru / Transit * 2'], dtype=object), 'Month': array(['July', 'August', 'September', 'October', 'November', 'April',\n",
      "       'December', 'January', 'February', 'March', 'May', 'June'],\n",
      "      dtype=object)}\n"
     ]
    }
   ],
   "source": [
    "df[colunas_categoricas] = df[colunas_categoricas].apply(lambda x: x.str.strip().str.lower())\n",
    "\n",
    "print(valores_unicos_categoricos)"
   ]
  },
  {
   "cell_type": "code",
   "execution_count": 9,
   "metadata": {},
   "outputs": [
    {
     "data": {
      "text/plain": [
       "(Activity Period                0\n",
       " Operating Airline              0\n",
       " Operating Airline IATA Code    0\n",
       " Published Airline              0\n",
       " Published Airline IATA Code    0\n",
       " GEO Summary                    0\n",
       " GEO Region                     0\n",
       " Activity Type Code             0\n",
       " Price Category Code            0\n",
       " Terminal                       0\n",
       " Boarding Area                  0\n",
       " Passenger Count                0\n",
       " Adjusted Activity Type Code    0\n",
       " Adjusted Passenger Count       0\n",
       " Year                           0\n",
       " Month                          0\n",
       " dtype: int64,\n",
       " (14953, 16))"
      ]
     },
     "execution_count": 9,
     "metadata": {},
     "output_type": "execute_result"
    }
   ],
   "source": [
    "df_sem_nulos = df.dropna()\n",
    "\n",
    "df_sem_nulos.isnull().sum(), df_sem_nulos.shape"
   ]
  },
  {
   "cell_type": "code",
   "execution_count": 10,
   "metadata": {},
   "outputs": [
    {
     "name": "stdout",
     "output_type": "stream",
     "text": [
      "Arquivo CSV guardado com sucesso!\n"
     ]
    }
   ],
   "source": [
    "df.to_csv(\"/Users/tiagosilva/backup_air_traffic.csv\", index=False)\n",
    "\n",
    "print(\"Arquivo CSV guardado com sucesso!\")"
   ]
  },
  {
   "cell_type": "code",
   "execution_count": 11,
   "metadata": {},
   "outputs": [
    {
     "name": "stdout",
     "output_type": "stream",
     "text": [
      "Arquivo CSV substituido com sucesso!\n"
     ]
    }
   ],
   "source": [
    "df.to_csv(\"/Users/tiagosilva/Air_Traffic_Passenger_Statistics.csv\", index=False)\n",
    "\n",
    "print(\"Arquivo CSV substituido com sucesso!\")"
   ]
  }
 ],
 "metadata": {
  "kernelspec": {
   "display_name": "base",
   "language": "python",
   "name": "python3"
  },
  "language_info": {
   "codemirror_mode": {
    "name": "ipython",
    "version": 3
   },
   "file_extension": ".py",
   "mimetype": "text/x-python",
   "name": "python",
   "nbconvert_exporter": "python",
   "pygments_lexer": "ipython3",
   "version": "3.12.2"
  }
 },
 "nbformat": 4,
 "nbformat_minor": 2
}
